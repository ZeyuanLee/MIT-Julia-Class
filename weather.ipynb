{
 "cells": [
  {
   "cell_type": "markdown",
   "metadata": {},
   "source": [
    "# Weather Predict"
   ]
  },
  {
   "cell_type": "markdown",
   "metadata": {},
   "source": [
    "The bacteria reproduce at a rate \\lambd provided that there is sufficient food.But the need for enough food will put a limit on the sustainable population to a value K, sometimes called the carrying capacity.This is sometimes called the logistic differential equation."
   ]
  },
  {
   "cell_type": "code",
   "execution_count": null,
   "metadata": {},
   "outputs": [],
   "source": [
    "using Plots\n",
    "gr()"
   ]
  },
  {
   "cell_type": "code",
   "execution_count": 1,
   "metadata": {},
   "outputs": [
    {
     "name": "stderr",
     "output_type": "stream",
     "text": [
      "┌ Info: Precompiling DifferentialEquations [0c46a032-eb83-5123-abaf-570d42b7fbaa]\n",
      "└ @ Base loading.jl:1423\n",
      "\u001b[91m\u001b[1mERROR: \u001b[22m\u001b[39m\u001b[91m\u001b[1mERROR: \u001b[22m\u001b[39m\u001b[91m\u001b[1mERROR: \u001b[22m\u001b[39mLoadError: LoadError: LoadError: InterruptException:\n",
      "Stacktrace:\n",
      " [1] \u001b[0m\u001b[1mmacro expansion\u001b[22m\n",
      "\u001b[90m   @ \u001b[39m\u001b[90m~/.julia/packages/OrdinaryDiffEq/r4jGU/src/\u001b[39mInterruptException:\n",
      "Stacktrace:\n",
      "  [1] InterruptException:\n",
      "Stacktrace:\n",
      "  [1] \u001b[90m\u001b[4mOrdinaryDiffEq.jl:328\u001b[24m\u001b[39m\u001b[90m [inlined]\u001b[39m\n",
      " [2] top-level scope\n",
      "\u001b[90m   @ \u001b[39m\u001b[90m~/.julia/packages/SnoopPrecompile/UWvXF/src/\u001b[39m\u001b[90m\u001b[4mSnoopPrecompile.jl:58\u001b[24m\u001b[39m\n",
      " [3] \u001b[0m\u001b[1minclude\u001b[22m\n",
      "\u001b[90m   @ \u001b[39m\u001b[90m./\u001b[39m\u001b[90m\u001b[4mBase.jl:418\u001b[24m\u001b[39m\u001b[90m [inlined]\u001b[39m\n",
      " [4] \u001b[0m\u001b[1mpoptask\u001b[22m\u001b[0m\u001b[1m(\u001b[22m\u001b[0m\u001b[1mpoptask\u001b[22m\u001b[0m\u001b[1m(\u001b[22m\u001b[0m\u001b[1minclude_package_for_output\u001b[22m\u001b[0m\u001b[1m(\u001b[22m\u001b[90mW\u001b[39m::\u001b[90mW\u001b[39m::\u001b[90mpkg\u001b[39m::\u001b[0mBase.InvasiveLinkedListSynchronized\u001b[90m{Task}\u001b[39m\u001b[0m\u001b[1m)\u001b[22m\n",
      "\u001b[90m    @ \u001b[39m\u001b[0mBase.InvasiveLinkedListSynchronized\u001b[90m{Task}\u001b[39m\u001b[0m\u001b[1m)\u001b[22m\n",
      "\u001b[90m    @ \u001b[39m\u001b[0mBase.PkgId, \u001b[90minput\u001b[39m::\u001b[0mString, \u001b[90mdepot_path\u001b[39m::\u001b[0mVector\u001b[90m{String}\u001b[39m, \u001b[90mdl_load_path\u001b[39m::\u001b[0mVector\u001b[90m{String}\u001b[39m, \u001b[90mload_path\u001b[39m::\u001b[0mVector\u001b[90m{String}\u001b[39m, \u001b[90mconcrete_deps\u001b[39m::\u001b[0mVector\u001b[90m{Pair{Base.PkgId, UInt64}}\u001b[39m, \u001b[90msource\u001b[39m::\u001b[0mString\u001b[0m\u001b[1m)\u001b[22m\n",
      "\u001b[90m   @ \u001b[39m\u001b[90mBase\u001b[39m \u001b[90m./\u001b[39m\u001b[90mBase\u001b[39m \u001b[90m./\u001b[39m\u001b[90mBase\u001b[39m \u001b[90m./\u001b[39m\u001b[90m\u001b[4mloading.jl:1318\u001b[24m\u001b[39m\n",
      " [5] \u001b[0m\u001b[1meval\u001b[22m\n",
      "\u001b[90m\u001b[4mtask.jl:862\u001b[24m\u001b[39m\u001b[90m   @ \u001b[39m\u001b[90m./\u001b[39m\u001b[90m\u001b[4mboot.jl:373\u001b[24m\u001b[39m\n",
      "\u001b[90m [inlined]\u001b[39m \n",
      " [2]  [6] \u001b[0m\u001b[1mwait\u001b[22m\u001b[0m\u001b[1m(\u001b[22m\u001b[0m\u001b[1meval\u001b[22m\u001b[0m\u001b[1m)\u001b[22m\u001b[0m\u001b[1m(\u001b[22m\n",
      "\u001b[90mx\u001b[39m\u001b[90m    @ \u001b[39m::\u001b[90mBase\u001b[39m\u001b[0mExpr \u001b[0m\u001b[1m)\u001b[22m\u001b[90m./\u001b[39m\n",
      "\u001b[90m\u001b[4mtask.jl:871\u001b[24m\u001b[39m\u001b[90m   @ \u001b[39m\u001b[90mBase.MainInclude\u001b[39m\n",
      " \u001b[90m./\u001b[39m  [3]\u001b[90m\u001b[4mclient.jl:453\u001b[24m\u001b[39m \u001b[0m\u001b[1mwait\u001b[22m\n",
      "in expression starting at /Users/zeyuan/.julia/packages/OrdinaryDiffEq/r4jGU/src/OrdinaryDiffEq.jl:1\u001b[0m\u001b[1m(\u001b[22m\u001b[90mc\u001b[39m\n",
      "::\u001b[0mBase.GenericCondition\u001b[90m{Base.Threads.SpinLock}\u001b[39m\u001b[0m\u001b[1m)\u001b[22m\n",
      "\u001b[90m    @ \u001b[39m\u001b[90mBase\u001b[39m \u001b[90m./\u001b[39m\u001b[90m\u001b[4mcondition.jl:123\u001b[24m\u001b[39m\n",
      "  [4] \u001b[0m\u001b[1mwait\u001b[22m\u001b[0m\u001b[1m(\u001b[22m\u001b[90mx\u001b[39m::\u001b[0mBase.Process\u001b[0m\u001b[1m)\u001b[22m\n",
      "\u001b[90m    @ \u001b[39m\u001b[90mBase\u001b[39m \u001b[90m./\u001b[39m\u001b[90m\u001b[4mprocess.jl:636\u001b[24m\u001b[39m\n",
      "  [5] \u001b[0m\u001b[1msuccess\u001b[22m\u001b[0m\u001b[1m(\u001b[22m\u001b[90mx\u001b[39m::\u001b[0mBase.Process\u001b[0m\u001b[1m)\u001b[22m\n",
      "\u001b[90m    @ \u001b[39m\u001b[90mBase\u001b[39m \u001b[90m./\u001b[39m\u001b[90m\u001b[4mprocess.jl:498\u001b[24m\u001b[39m\n",
      "  [6] \u001b[0m\u001b[1mcompilecache\u001b[22m\u001b[0m\u001b[1m(\u001b[22m\u001b[90mpkg\u001b[39m::\u001b[0mBase.PkgId, \u001b[90mpath\u001b[39m::\u001b[0mString, \u001b[90minternal_stderr\u001b[39m::\u001b[0mIO, \u001b[90minternal_stdout\u001b[39m::\u001b[0mIO, \u001b[90mignore_loaded_modules\u001b[39m::\u001b[0mBool\u001b[0m\u001b[1m)\u001b[22m\n",
      "\u001b[90m    @ \u001b[39m\u001b[90mBase\u001b[39m \u001b[90m./\u001b[39m\u001b[90m\u001b[4mloading.jl:1433\u001b[24m\u001b[39m\n",
      "  [7] \u001b[0m\u001b[1mcompilecache\u001b[22m\u001b[0m\u001b[1m(\u001b[22m\u001b[90mpkg\u001b[39m::\u001b[0mBase.PkgId, \u001b[90mpath\u001b[39m::\u001b[0mString\u001b[0m\u001b[1m)\u001b[22m\n",
      "\u001b[90m    @ \u001b[39m\u001b[90mBase\u001b[39m \u001b[90m./\u001b[39m\u001b[90m\u001b[4mloading.jl:1410\u001b[24m\u001b[39m\n",
      "  [8] \u001b[0m\u001b[1m_require\u001b[22m\u001b[0m\u001b[1m(\u001b[22m\u001b[90mpkg\u001b[39m::\u001b[0mBase.PkgId\u001b[0m\u001b[1m)\u001b[22m\n",
      "\u001b[90m    @ \u001b[39m\u001b[90mBase\u001b[39m \u001b[90m./\u001b[39m\u001b[90m\u001b[4mloading.jl:1120\u001b[24m\u001b[39m\n",
      "  [9] \u001b[0m\u001b[1mrequire\u001b[22m\u001b[0m\u001b[1m(\u001b[22m\u001b[90muuidkey\u001b[39m::\u001b[0mBase.PkgId\u001b[0m\u001b[1m)\u001b[22m\n",
      "\u001b[90m    @ \u001b[39m\u001b[90mBase\u001b[39m \u001b[90m./\u001b[39m\u001b[90m\u001b[4mloading.jl:1013\u001b[24m\u001b[39m\n",
      " [10] \u001b[0m\u001b[1mrequire\u001b[22m\u001b[0m\u001b[1m(\u001b[22m\u001b[90minto\u001b[39m::\u001b[0mModule, \u001b[90mmod\u001b[39m::\u001b[0mSymbol\u001b[0m\u001b[1m)\u001b[22m\n",
      "\u001b[90m    @ \u001b[39m\u001b[90mBase\u001b[39m \u001b[90m./\u001b[39m\u001b[90m\u001b[4mloading.jl:997\u001b[24m\u001b[39m\n",
      " [11] \u001b[0m\u001b[1minclude\u001b[22m\n",
      "\u001b[90m    @ \u001b[39m\u001b[90m./\u001b[39m\u001b[90m\u001b[4mBase.jl:418\u001b[24m\u001b[39m\u001b[90m [inlined]\u001b[39m\n",
      " [12] \u001b[0m\u001b[1minclude_package_for_output\u001b[22m\u001b[0m\u001b[1m(\u001b[22m\u001b[90mpkg\u001b[39m::\u001b[0mBase.PkgId, \u001b[90minput\u001b[39m::\u001b[0mString, \u001b[90mdepot_path\u001b[39m::\u001b[0mVector\u001b[90m{String}\u001b[39m, \u001b[90mdl_load_path\u001b[39m::\u001b[0mVector\u001b[90m{String}\u001b[39m, \u001b[90mload_path\u001b[39m::\u001b[90m\u001b[4mtask.jl:862\u001b[24m\u001b[39m\n",
      "  [2] \u001b[0mVector\u001b[90m{String}\u001b[39m, \u001b[0m\u001b[1mwait\u001b[22m\u001b[90mconcrete_deps\u001b[39m\u001b[0m\u001b[1m(\u001b[22m::\u001b[0m\u001b[1m)\u001b[22m\n",
      "\u001b[90m    @ \u001b[39m\u001b[90mBase\u001b[39m \u001b[90m./\u001b[39m\u001b[90m\u001b[4mtask.jl:871\u001b[24m\u001b[39m\n",
      "  [3] \u001b[0m\u001b[1mwait\u001b[22m\u001b[0m\u001b[1m(\u001b[22m\u001b[90mc\u001b[39m::\u001b[0mVector\u001b[90m{Pair{Base.PkgId, UInt64}}\u001b[39m, \u001b[90msource\u001b[39m\u001b[0mBase.GenericCondition::\u001b[90m{Base.Threads.SpinLock}\u001b[39m\u001b[0mString\u001b[0m\u001b[1m)\u001b[22m\u001b[0m\u001b[1m)\u001b[22m\n",
      "\n",
      "\u001b[90m    @ \u001b[39m\u001b[90m    @ \u001b[39m\u001b[90mBase\u001b[39m\u001b[90mBase\u001b[39m  \u001b[90m./\u001b[39m\u001b[90m./\u001b[39m\u001b[90m\u001b[4mcondition.jl:123\u001b[24m\u001b[39m\u001b[90m\u001b[4mloading.jl:1318\u001b[24m\u001b[39m\n",
      "\n",
      "   [4][13]  \u001b[0m\u001b[1mwait\u001b[22m\u001b[0m\u001b[1meval\u001b[22m\u001b[0m\u001b[1m(\u001b[22m\n",
      "\u001b[90mx\u001b[39m\u001b[90m    @ \u001b[39m::\u001b[90m./\u001b[39m\u001b[0mBase.Process\u001b[90m\u001b[4mboot.jl:373\u001b[24m\u001b[39m\u001b[0m\u001b[1m)\u001b[22m\u001b[90m [inlined]\u001b[39m\n",
      "\n",
      "\u001b[90m    @ \u001b[39m \u001b[90mBase\u001b[39m [14] \u001b[90m./\u001b[39m\u001b[0m\u001b[1meval\u001b[22m\u001b[90m\u001b[4mprocess.jl:636\u001b[24m\u001b[39m\u001b[0m\u001b[1m(\u001b[22m\u001b[90mx\u001b[39m\n",
      ":: \u001b[0mExpr [5]\u001b[0m\u001b[1m)\u001b[22m \n",
      "\u001b[0m\u001b[1msuccess\u001b[22m\u001b[90m    @ \u001b[39m\u001b[0m\u001b[1m(\u001b[22m\u001b[90mBase.MainInclude\u001b[39m\u001b[90mx\u001b[39m ::\u001b[90m./\u001b[39m\u001b[0mBase.Process\u001b[90m\u001b[4mclient.jl:453\u001b[24m\u001b[39m\u001b[0m\u001b[1m)\u001b[22m\n",
      "\n",
      "in expression starting at /Users/zeyuan/.julia/packages/StochasticDiffEq/H2eng/src/StochasticDiffEq.jl:1\u001b[90m    @ \u001b[39m\n",
      "\u001b[90mBase\u001b[39m \u001b[90m./\u001b[39m\u001b[90m\u001b[4mprocess.jl:498\u001b[24m\u001b[39m\n",
      "  [6] \u001b[0m\u001b[1mcompilecache\u001b[22m\u001b[0m\u001b[1m(\u001b[22m\u001b[90mpkg\u001b[39m::\u001b[0mBase.PkgId, \u001b[90mpath\u001b[39m::\u001b[0mString, \u001b[90minternal_stderr\u001b[39m::\u001b[0mIO, \u001b[90minternal_stdout\u001b[39m::\u001b[0mIO, \u001b[90mignore_loaded_modules\u001b[39m::\u001b[0mBool\u001b[0m\u001b[1m)\u001b[22m\n",
      "\u001b[90m    @ \u001b[39m\u001b[90mBase\u001b[39m \u001b[90m./\u001b[39m\u001b[90m\u001b[4mloading.jl:1433\u001b[24m\u001b[39m\n",
      "  [7] \u001b[0m\u001b[1mcompilecache\u001b[22m\u001b[0m\u001b[1m(\u001b[22m\u001b[90mpkg\u001b[39m::\u001b[0mBase.PkgId, \u001b[90mpath\u001b[39m::\u001b[0mString\u001b[0m\u001b[1m)\u001b[22m\n",
      "\u001b[90m    @ \u001b[39m\u001b[90mBase\u001b[39m \u001b[90m./\u001b[39m\u001b[90m\u001b[4mloading.jl:1410\u001b[24m\u001b[39m\n",
      "  [8] \u001b[0m\u001b[1m_require\u001b[22m\u001b[0m\u001b[1m(\u001b[22m\u001b[90mpkg\u001b[39m::\u001b[0mBase.PkgId\u001b[0m\u001b[1m)\u001b[22m\n",
      "\u001b[90m    @ \u001b[39m\u001b[90mBase\u001b[39m \u001b[90m./\u001b[39m\u001b[90m\u001b[4mloading.jl:1120\u001b[24m\u001b[39m\n",
      "  [9] \u001b[0m\u001b[1mrequire\u001b[22m\u001b[0m\u001b[1m(\u001b[22m\u001b[90muuidkey\u001b[39m::\u001b[0mBase.PkgId\u001b[0m\u001b[1m)\u001b[22m\n",
      "\u001b[90m    @ \u001b[39m\u001b[90mBase\u001b[39m \u001b[90m./\u001b[39m\u001b[90m\u001b[4mloading.jl:1013\u001b[24m\u001b[39m\n",
      " [10] \u001b[0m\u001b[1mrequire\u001b[22m\u001b[0m\u001b[1m(\u001b[22m\u001b[90minto\u001b[39m::\u001b[0mModule, \u001b[90mmod\u001b[39m::\u001b[0mSymbol\u001b[0m\u001b[1m)\u001b[22m\n",
      "\u001b[90m    @ \u001b[39m\u001b[90mBase\u001b[39m \u001b[90m./\u001b[39m\u001b[90m\u001b[4mloading.jl:997\u001b[24m\u001b[39m\n",
      " [11] \u001b[0m\u001b[1minclude\u001b[22m\n",
      "\u001b[90m    @ \u001b[39m\u001b[90m./\u001b[39m\u001b[90m\u001b[4mBase.jl:418\u001b[24m\u001b[39m\u001b[90m [inlined]\u001b[39m\n",
      " [12] \u001b[0m\u001b[1minclude_package_for_output\u001b[22m\u001b[0m\u001b[1m(\u001b[22m\u001b[90mpkg\u001b[39m::\u001b[0mBase.PkgId, \u001b[90minput\u001b[39m::\u001b[0mString, \u001b[90mdepot_path\u001b[39m::\u001b[0mVector\u001b[90m{String}\u001b[39m, \u001b[90mdl_load_path\u001b[39m::\u001b[0mVector\u001b[90m{String}\u001b[39m, \u001b[90mload_path\u001b[39m::\u001b[0mVector\u001b[90m{String}\u001b[39m, \u001b[90mconcrete_deps\u001b[39m::\u001b[0mVector\u001b[90m{Pair{Base.PkgId, UInt64}}\u001b[39m, \u001b[90msource\u001b[39m::\u001b[0mNothing\u001b[0m\u001b[1m)\u001b[22m\n",
      "\u001b[90m    @ \u001b[39m\u001b[90mBase\u001b[39m \u001b[90m./\u001b[39m\u001b[90m\u001b[4mloading.jl:1318\u001b[24m\u001b[39m\n",
      " [13] \u001b[0m\u001b[1meval\u001b[22m\n",
      "\u001b[90m    @ \u001b[39m\u001b[90m./\u001b[39m\u001b[90m\u001b[4mboot.jl:373\u001b[24m\u001b[39m\u001b[90m [inlined]\u001b[39m\n",
      " [14] \u001b[0m\u001b[1meval\u001b[22m\u001b[0m\u001b[1m(\u001b[22m\u001b[90mx\u001b[39m::\u001b[0mExpr\u001b[0m\u001b[1m)\u001b[22m\n",
      "\u001b[90m    @ \u001b[39m\u001b[90mBase.MainInclude\u001b[39m \u001b[90m./\u001b[39m\u001b[90m\u001b[4mclient.jl:453\u001b[24m\u001b[39m\n",
      "in expression starting at /Users/zeyuan/.julia/packages/DifferentialEquations/fGVGw/src/DifferentialEquations.jl:1\n"
     ]
    },
    {
     "ename": "LoadError",
     "evalue": "Failed to precompile DifferentialEquations [0c46a032-eb83-5123-abaf-570d42b7fbaa] to /Users/zeyuan/.julia/compiled/v1.7/DifferentialEquations/jl_Gjy01a.",
     "output_type": "error",
     "traceback": [
      "Failed to precompile DifferentialEquations [0c46a032-eb83-5123-abaf-570d42b7fbaa] to /Users/zeyuan/.julia/compiled/v1.7/DifferentialEquations/jl_Gjy01a.",
      "",
      "Stacktrace:",
      " [1] error(s::String)",
      "   @ Base ./error.jl:33",
      " [2] compilecache(pkg::Base.PkgId, path::String, internal_stderr::IO, internal_stdout::IO, ignore_loaded_modules::Bool)",
      "   @ Base ./loading.jl:1466",
      " [3] compilecache(pkg::Base.PkgId, path::String)",
      "   @ Base ./loading.jl:1410",
      " [4] _require(pkg::Base.PkgId)",
      "   @ Base ./loading.jl:1120",
      " [5] require(uuidkey::Base.PkgId)",
      "   @ Base ./loading.jl:1013",
      " [6] require(into::Module, mod::Symbol)",
      "   @ Base ./loading.jl:997",
      " [7] eval",
      "   @ ./boot.jl:373 [inlined]",
      " [8] include_string(mapexpr::typeof(REPL.softscope), mod::Module, code::String, filename::String)",
      "   @ Base ./loading.jl:1196"
     ]
    }
   ],
   "source": [
    "using DifferentialEquations:ODEProblem\n",
    "\"dx/dt=λx(K-x)\""
   ]
  },
  {
   "cell_type": "code",
   "execution_count": null,
   "metadata": {},
   "outputs": [],
   "source": [
    "stepin(f,x,h) = x+h*f(x)\n",
    "function euler_method(f,x0,h,t_final)\n",
    "    xs=[x0]\n",
    "    ts=[0.0]\n",
    "\n",
    "    x=x0\n",
    "    t=0.0\n",
    "    while t <= t_final\n",
    "        new_x=stepin(f,x,h)\n",
    "        push!(xs,new_x)\n",
    "        push!(ts,t)\n",
    "        x=new_x\n",
    "        t+=h\n",
    "    end\n",
    "    return (ts=ts,xs=xs)\n",
    "end\n",
    "\n",
    "logistic(x)=x*(1-x);\n",
    "result=euler_method(logistic,0.50,0.02,20);\n",
    "\n",
    "logis_pro=ODEProblem(logistic,0.5,(0,20))\n",
    "result2=solve(logis_pro)\n",
    "\n",
    "# plot(result.ts,result.xs)"
   ]
  },
  {
   "cell_type": "markdown",
   "metadata": {},
   "source": [
    "autocatalytic adj.自动催化的 <br>\n",
    "spiral  v.螺旋 持续加剧的上升 <br>\n",
    "meteorological n. 天气学<br>\n",
    "saucepan n.深平底锅 炖锅<br>\n",
    "convection n.对流<br>\n",
    "embodiment n. 体现 化身<br>\n",
    "encyclopedia n. 百科全书<br>\n",
    "analog computer n. 模拟计算机<br>\n",
    "dial n. 仪表盘<br>\n",
    "seize up 失灵 卡住<br>\n",
    "fractal dimension 分形维数；碎形維度<br>\n",
    "hallmark n. 品质 特点 印记<br>\n",
    "saturate v. 使饱和 使浸泡<br>"
   ]
  }
 ],
 "metadata": {
  "kernelspec": {
   "display_name": "Julia 1.7.3",
   "language": "julia",
   "name": "julia-1.7"
  },
  "language_info": {
   "file_extension": ".jl",
   "mimetype": "application/julia",
   "name": "julia",
   "version": "1.7.3"
  },
  "orig_nbformat": 4
 },
 "nbformat": 4,
 "nbformat_minor": 2
}
