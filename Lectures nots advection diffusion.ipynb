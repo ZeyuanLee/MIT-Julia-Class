{
 "cells": [
  {
   "cell_type": "markdown",
   "metadata": {},
   "source": [
    "# Advection and diffusion equation\n"
   ]
  },
  {
   "cell_type": "code",
   "execution_count": null,
   "metadata": {},
   "outputs": [],
   "source": []
  },
  {
   "cell_type": "markdown",
   "metadata": {},
   "source": [
    "equator n. 赤道\n",
    "latitude n. 纬度"
   ]
  }
 ],
 "metadata": {
  "kernelspec": {
   "display_name": "Python 3.7.13 ('tickets')",
   "language": "python",
   "name": "python3"
  },
  "language_info": {
   "name": "python",
   "version": "3.7.13"
  },
  "orig_nbformat": 4,
  "vscode": {
   "interpreter": {
    "hash": "823e295a002e5f27f9e2dfc07f1e2bd2295a7a59fa0786af29d343e82e463072"
   }
  }
 },
 "nbformat": 4,
 "nbformat_minor": 2
}
